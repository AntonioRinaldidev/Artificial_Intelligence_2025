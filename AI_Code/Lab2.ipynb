{
  "nbformat": 4,
  "nbformat_minor": 0,
  "metadata": {
    "colab": {
      "provenance": []
    },
    "kernelspec": {
      "name": "python3",
      "display_name": "Python 3"
    },
    "language_info": {
      "name": "python"
    }
  },
  "cells": [
    {
      "cell_type": "markdown",
      "source": [
        "## Lab 2\n",
        "\n",
        "This material is extracted from the book \"Artificial Intelligence: Foundations of Computational Agents\". Copyright 2017-2024 David L. Poole and Alan K. Mackworth"
      ],
      "metadata": {
        "id": "sQxLS3aHOi1I"
      }
    },
    {
      "cell_type": "markdown",
      "source": [
        "In the following implementation, both agents and the environment are treated as\n",
        "objects in the send of object-oriented programs: they can have an internal state\n",
        "they maintain, and can evaluate methods that can provide answers."
      ],
      "metadata": {
        "id": "-Gr7NVacObvr"
      }
    },
    {
      "cell_type": "code",
      "source": [
        "class Displayable(object):\n",
        "    \"\"\"Class that uses 'display'.\n",
        "    The amount of detail is controlled by max_display_level\n",
        "    \"\"\"\n",
        "    max_display_level = 1   # can be overridden in subclasses or instances\n",
        "\n",
        "    def display(self,level,*args,**nargs):\n",
        "        \"\"\"print the arguments if level is less than or equal to the\n",
        "        current max_display_level.\n",
        "        level is an integer.\n",
        "        the other arguments are whatever arguments print can take.\n",
        "        \"\"\"\n",
        "        if level <= self.max_display_level:\n",
        "            print(*args, **nargs)  ##if error you are using Python2 not Python3\n"
      ],
      "metadata": {
        "id": "b_xzL8qrP0PW"
      },
      "execution_count": null,
      "outputs": []
    },
    {
      "cell_type": "markdown",
      "source": [
        "An agent takes the precept, updates its internal state, and output it next\n",
        "action.\n",
        "\n",
        "An environment takes in actions of the agents, updates its internal state\n",
        "and returns the next percept, using the method do."
      ],
      "metadata": {
        "id": "2_BYdvkSOz9z"
      }
    },
    {
      "cell_type": "code",
      "execution_count": null,
      "metadata": {
        "id": "wwEBEWc4PK0v"
      },
      "outputs": [],
      "source": [
        "class Agent(Displayable):\n",
        "\n",
        "    def initial_action(self, percept):\n",
        "        \"\"\"return the initial action.\"\"\"\n",
        "        return self.select_action(percept)   # same as select_action\n",
        "\n",
        "    def select_action(self, percept):\n",
        "        \"\"\"return the next action (and update internal state) given percept\n",
        "        percept is variable:value dictionary\n",
        "        \"\"\"\n",
        "        raise NotImplementedError(\"go\")   # abstract method\n",
        "\n",
        "class Environment(Displayable):\n",
        "    def initial_percept(self):\n",
        "        \"\"\"returns the initial percept for the agent\"\"\"\n",
        "        raise NotImplementedError(\"initial_percept\")   # abstract method\n",
        "\n",
        "    def do(self, action):\n",
        "        \"\"\"does the action in the environment\n",
        "        returns the next percept \"\"\"\n",
        "        raise NotImplementedError(\"Environment.do\")   # abstract method\n",
        "\n",
        "class Simulate(Displayable):\n",
        "    \"\"\"simulate the interaction between the agent and the environment\n",
        "    for n time steps.\n",
        "    Returns a pair of the agent state and the environment state.\n",
        "    \"\"\"\n",
        "    def __init__(self,agent, environment):\n",
        "        self.agent = agent\n",
        "        self.env = environment\n",
        "        self.percept = self.env.initial_percept()\n",
        "        self.percept_history = [self.percept]\n",
        "        self.action_history = []\n",
        "\n",
        "    def go(self, n):\n",
        "        for i in range(n):\n",
        "            action = self.agent.select_action(self.percept)\n",
        "            self.display(2,f\"i={i} action={action}\")\n",
        "            self.percept = self.env.do(action)\n",
        "            self.display(2,f\"      percept={self.percept}\")"
      ]
    },
    {
      "cell_type": "markdown",
      "source": [
        "## Example Buying agents\n",
        "\n",
        "The environment state is given in terms of the time and the amount of paper in\n",
        "stock. It also remembers the in-stock history and the price history. The percept\n",
        "consists of the price and the amount of paper in stock. The action of the agent\n",
        "is the number to buy. The agent cannot access the price model; it just observes the prices and the amount in stock. The agent has to decide how much to buy.\n",
        "The belief state of the agent is an estimate of the average price of the paper,\n",
        "and the total amount of money the agent has spent."
      ],
      "metadata": {
        "id": "so7zVNRPRGW5"
      }
    },
    {
      "cell_type": "code",
      "source": [
        "def select_from_dist(item_prob_dist):\n",
        "    \"\"\" returns a value from a distribution.\n",
        "    item_prob_dist is an item:probability dictionary, where the\n",
        "        probabilities sum to 1.\n",
        "    returns an item chosen in proportion to its probability\n",
        "    \"\"\"\n",
        "    ranreal = random.random()\n",
        "    for (it,prob) in item_prob_dist.items():\n",
        "        if ranreal < prob:\n",
        "            return it\n",
        "        else:\n",
        "            ranreal -= prob\n",
        "    raise RuntimeError(f\"{item_prob_dist} is not a probability distribution\")"
      ],
      "metadata": {
        "id": "Qd-l8LWISASf"
      },
      "execution_count": null,
      "outputs": []
    },
    {
      "cell_type": "code",
      "source": [
        "import random\n",
        "class TP_env(Environment):\n",
        "    price_delta = [0, 0, 0, 21, 0, 20, 0, -64, 0, 0, 23, 0, 0, 0, -35,\n",
        "        0, 76, 0, -41, 0, 0, 0, 21, 0, 5, 0, 5, 0, 0, 0, 5, 0, -15, 0, 5,\n",
        "       0, 5, 0, -115, 0, 115, 0, 5, 0, -15, 0, 5, 0, 5, 0, 0, 0, 5, 0,\n",
        "       -59, 0, 44, 0, 5, 0, 5, 0, 0, 0, 5, 0, -65, 50, 0, 5, 0, 5, 0, 0,\n",
        "       0, 5, 0]\n",
        "    sd = 5  # noise standard deviation\n",
        "\n",
        "    def __init__(self):\n",
        "        \"\"\"paper buying agent\"\"\"\n",
        "        self.time=0\n",
        "        self.stock=20\n",
        "        self.stock_history = []  # memory of the stock history\n",
        "        self.price_history = []  # memory of the price history\n",
        "\n",
        "    def initial_percept(self):\n",
        "        \"\"\"return initial percept\"\"\"\n",
        "        self.stock_history.append(self.stock)\n",
        "        self.price = round(234+self.sd*random.gauss(0,1))\n",
        "        self.price_history.append(self.price)\n",
        "        return {'price': self.price,\n",
        "                'instock': self.stock}\n",
        "\n",
        "    def do(self, action):\n",
        "        \"\"\"does action (buy) and returns percept consisting of price and instock\"\"\"\n",
        "        used = select_from_dist({6:0.1, 5:0.1, 4:0.1, 3:0.3, 2:0.2, 1:0.2})\n",
        "        # used = select_from_dist({7:0.1, 6:0.2, 5:0.2, 4:0.3, 3:0.1, 2:0.1}) # uses more paper\n",
        "        bought = action['buy']\n",
        "        self.stock = self.stock+bought-used\n",
        "        self.stock_history.append(self.stock)\n",
        "        self.time += 1\n",
        "        self.price =  round(self.price\n",
        "                        + self.price_delta[self.time%len(self.price_delta)] # repeating pattern\n",
        "                        + self.sd*random.gauss(0,1)) # plus randomness\n",
        "        self.price_history.append(self.price)\n",
        "        return {'price': self.price,\n",
        "                'instock': self.stock}\n",
        "\n",
        "class TP_agent(Agent):\n",
        "    def __init__(self):\n",
        "        self.spent = 0\n",
        "        percept = env.initial_percept()\n",
        "        self.ave = self.last_price = percept['price']\n",
        "        self.instock = percept['instock']\n",
        "        self.buy_history = []\n",
        "\n",
        "    def select_action(self, percept):\n",
        "        \"\"\"return next action to carry out\n",
        "        \"\"\"\n",
        "        self.last_price = percept['price']\n",
        "        self.ave = self.ave+(self.last_price-self.ave)*0.05\n",
        "        self.instock = percept['instock']\n",
        "        if self.last_price < 0.9*self.ave and self.instock < 60:\n",
        "            tobuy = 48\n",
        "        elif self.instock < 12:\n",
        "            tobuy = 12\n",
        "        else:\n",
        "            tobuy = 0\n",
        "        self.spent += tobuy*self.last_price\n",
        "        self.buy_history.append(tobuy)\n",
        "        return {'buy': tobuy}\n",
        "\n",
        "env = TP_env()\n",
        "ag = TP_agent()\n",
        "sim = Simulate(ag,env)\n",
        "#sim.go(90)\n",
        "#ag.spent/env.time   ## average spent per time period\n",
        "\n",
        "import matplotlib.pyplot as plt\n",
        "\n",
        "class Plot_history(object):\n",
        "    \"\"\"Set up the plot for history of price and number in stock\"\"\"\n",
        "    def __init__(self, ag, env):\n",
        "        self.ag = ag\n",
        "        self.env = env\n",
        "        plt.ion()\n",
        "        plt.xlabel(\"Time\")\n",
        "        plt.ylabel(\"Value\")\n",
        "\n",
        "\n",
        "    def plot_env_hist(self):\n",
        "        \"\"\"plot history of price and instock\"\"\"\n",
        "        num = len(env.stock_history)\n",
        "        plt.plot(range(num),env.price_history,label=\"Price\")\n",
        "        plt.plot(range(num),env.stock_history,label=\"In stock\")\n",
        "        plt.legend()\n",
        "        #plt.draw()\n",
        "\n",
        "    def plot_agent_hist(self):\n",
        "        \"\"\"plot history of buying\"\"\"\n",
        "        num = len(ag.buy_history)\n",
        "        plt.bar(range(1,num+1), ag.buy_history, label=\"Bought\")\n",
        "        plt.legend()\n",
        "\n",
        "sim.go(100); print(f\"agent spent ${ag.spent/100}\")\n",
        "pl = Plot_history(ag,env); pl.plot_env_hist(); pl.plot_agent_hist()"
      ],
      "metadata": {
        "colab": {
          "base_uri": "https://localhost:8080/",
          "height": 468
        },
        "id": "j2OZ2GwdRFAM",
        "outputId": "2d17ca00-8869-4bc5-97c8-e9d367ba3538"
      },
      "execution_count": null,
      "outputs": [
        {
          "output_type": "stream",
          "name": "stdout",
          "text": [
            "agent spent $739.92\n"
          ]
        },
        {
          "output_type": "display_data",
          "data": {
            "text/plain": [
              "<Figure size 640x480 with 1 Axes>"
            ],
            "image/png": "[encoded data removed]"
          },
          "metadata": {}
        }
      ]
    },
    {
      "cell_type": "markdown",
      "source": [
        "## Hierarchical Controller\n",
        "\n",
        "\n",
        "In this implementation, each layer, including the top layer, implements the environmen class, because each layer is seen as an environment from the layer\n",
        "above.\n",
        "\n",
        "The environment just defines the walls, and the body includes everything to do with the agent.\n",
        "\n",
        "Note that the named locations are part of the (top-level of the) agent,\n",
        "not part of the environment, although they could have been."
      ],
      "metadata": {
        "id": "dF5CFPjSSQJw"
      }
    },
    {
      "cell_type": "code",
      "source": [
        "class Rob_env(Environment):\n",
        "    def __init__(self,walls = {}):\n",
        "        \"\"\"walls is a set of line segments\n",
        "               where each line segment is of the form ((x0,y0),(x1,y1))\n",
        "        \"\"\"\n",
        "        self.walls = walls # The environment defines the walls.\n",
        "\n",
        "import math\n",
        "import matplotlib.pyplot as plt\n",
        "import time\n",
        "\n",
        "class Rob_body(Environment):   # The body defines everything about the agent body.\n",
        "    def __init__(self, env, init_pos=(0,0,90)):\n",
        "        \"\"\" env is the current environment\n",
        "        init_pos is a triple of (x-position, y-position, direction)\n",
        "            direction is in degrees; 0 is to right, 90 is straight-up, etc\n",
        "        \"\"\"\n",
        "        self.env = env\n",
        "        self.rob_x, self.rob_y, self.rob_dir = init_pos\n",
        "        self.turning_angle = 18   # degrees that a left makes\n",
        "        self.whisker_length = 6   # length of the whisker\n",
        "        self.whisker_angle = 30   # angle of whisker relative to robot\n",
        "        self.crashed = False\n",
        "        # The following control how it is plotted\n",
        "        self.plotting = False      # whether the trace is being plotted\n",
        "        self.sleep_time = 0.05     # time between actions (for real-time plotting)\n",
        "        # The following are data structures maintained:\n",
        "        self.history = [(self.rob_x, self.rob_y)] # history of (x,y) positions\n",
        "        self.wall_history = []     # history of hitting the wall\n",
        "\n",
        "    def percept(self):\n",
        "        return {'rob_x_pos':self.rob_x, 'rob_y_pos':self.rob_y,\n",
        "                'rob_dir':self.rob_dir, 'whisker':self.whisker(), 'crashed':self.crashed}\n",
        "    initial_percept = percept  # use percept function for initial percept too\n",
        "\n",
        "    def do(self,action):\n",
        "        \"\"\" action is {'steer':direction}\n",
        "        direction is 'left', 'right' or 'straight'\n",
        "        \"\"\"\n",
        "        if self.crashed:\n",
        "            return self.percept()\n",
        "        direction = action['steer']\n",
        "        compass_deriv = {'left':1,'straight':0,'right':-1}[direction]*self.turning_angle\n",
        "        self.rob_dir = (self.rob_dir + compass_deriv +360)%360  # make in range [0,360)\n",
        "        rob_x_new = self.rob_x + math.cos(self.rob_dir*math.pi/180)\n",
        "        rob_y_new = self.rob_y + math.sin(self.rob_dir*math.pi/180)\n",
        "        path = ((self.rob_x,self.rob_y),(rob_x_new,rob_y_new))\n",
        "        if any(line_segments_intersect(path,wall) for wall in self.env.walls):\n",
        "            self.crashed = True\n",
        "            if self.plotting:\n",
        "                plt.plot([self.rob_x],[self.rob_y],\"r*\",markersize=20.0)\n",
        "                plt.draw()\n",
        "        self.rob_x, self.rob_y = rob_x_new, rob_y_new\n",
        "        self.history.append((self.rob_x, self.rob_y))\n",
        "        if self.plotting and not self.crashed:\n",
        "            plt.plot([self.rob_x],[self.rob_y],\"go\")\n",
        "            plt.draw()\n",
        "            plt.pause(self.sleep_time)\n",
        "        return self.percept()\n",
        "\n",
        "    def whisker(self):\n",
        "        \"\"\"returns true whenever the whisker sensor intersects with a wall\n",
        "        \"\"\"\n",
        "        whisk_ang_world = (self.rob_dir-self.whisker_angle)*math.pi/180\n",
        "            # angle in radians in world coordinates\n",
        "        wx = self.rob_x + self.whisker_length * math.cos(whisk_ang_world)\n",
        "        wy = self.rob_y + self.whisker_length * math.sin(whisk_ang_world)\n",
        "        whisker_line = ((self.rob_x,self.rob_y),(wx,wy))\n",
        "        hit = any(line_segments_intersect(whisker_line,wall)\n",
        "                    for wall in self.env.walls)\n",
        "        if hit:\n",
        "            self.wall_history.append((self.rob_x, self.rob_y))\n",
        "            if self.plotting:\n",
        "                plt.plot([self.rob_x],[self.rob_y],\"ro\")\n",
        "                plt.draw()\n",
        "        return hit\n",
        "\n",
        "def line_segments_intersect(linea,lineb):\n",
        "    \"\"\"returns true if the line segments, linea and lineb intersect.\n",
        "    A line segment is represented as a pair of points.\n",
        "    A point is represented as a (x,y) pair.\n",
        "    \"\"\"\n",
        "    ((x0a,y0a),(x1a,y1a)) = linea\n",
        "    ((x0b,y0b),(x1b,y1b)) = lineb\n",
        "    da, db = x1a-x0a, x1b-x0b\n",
        "    ea, eb = y1a-y0a, y1b-y0b\n",
        "    denom = db*ea-eb*da\n",
        "    if denom==0:    # line segments are parallel\n",
        "        return False\n",
        "    cb = (da*(y0b-y0a)-ea*(x0b-x0a))/denom  # position along line b\n",
        "    if cb<0 or cb>1:\n",
        "        return False\n",
        "    ca = (db*(y0b-y0a)-eb*(x0b-x0a))/denom # position along line a\n",
        "    return 0<=ca<=1"
      ],
      "metadata": {
        "id": "VdFwZdq9SSBC"
      },
      "execution_count": null,
      "outputs": []
    },
    {
      "cell_type": "markdown",
      "source": [
        "The middle layer acts like both a controller (for the environment layer) and an\n",
        "environment for the upper layer. It has to tell the environment how to steer.\n",
        "Thus it calls *env.do(·)*. It also is told the position to go to and the timeout. Thus it also has to implement *do(·)*."
      ],
      "metadata": {
        "id": "c18Us12fKAHv"
      }
    },
    {
      "cell_type": "code",
      "source": [
        "class Rob_middle_layer(Environment):\n",
        "    def __init__(self,env):\n",
        "        self.env=env\n",
        "        self.percept = env.initial_percept()\n",
        "        self.straight_angle = 11 # angle that is close enough to straight ahead\n",
        "        self.close_threshold = 2  # distance that is close enough to arrived\n",
        "        self.close_threshold_squared = self.close_threshold**2 # just compute it once\n",
        "\n",
        "    def initial_percept(self):\n",
        "        return {}\n",
        "\n",
        "    def do(self, action):\n",
        "        \"\"\"action is {'go_to':target_pos,'timeout':timeout}\n",
        "        target_pos is (x,y) pair\n",
        "        timeout is the number of steps to try\n",
        "        returns {'arrived':True} when arrived is true\n",
        "             or {'arrived':False} if it reached the timeout\n",
        "        \"\"\"\n",
        "        if 'timeout' in action:\n",
        "            remaining = action['timeout']\n",
        "        else:\n",
        "            remaining = -1    # will never reach 0\n",
        "        target_pos = action['go_to']\n",
        "        arrived = self.close_enough(target_pos)\n",
        "        while not arrived and remaining != 0:\n",
        "            self.percept = self.env.do({\"steer\":self.steer(target_pos)})\n",
        "            remaining -= 1\n",
        "            arrived = self.close_enough(target_pos)\n",
        "        return {'arrived':arrived}\n",
        "\n",
        "\n",
        "    # The following method determines how to steer depending on whether the goal is to the right or the left of where the robot is facing.\n",
        "\n",
        "    def steer(self,target_pos):\n",
        "        if self.percept['whisker']:\n",
        "            self.display(3,'whisker on', self.percept)\n",
        "            return \"left\"\n",
        "        else:\n",
        "            return self.head_towards(target_pos)\n",
        "\n",
        "    def head_towards(self,target_pos):\n",
        "            \"\"\" given a target position, return the action that heads towards that position\n",
        "            \"\"\"\n",
        "            gx,gy = target_pos\n",
        "            rx,ry = self.percept['rob_x_pos'],self.percept['rob_y_pos']\n",
        "            goal_dir = math.acos((gx-rx)/math.sqrt((gx-rx)*(gx-rx)\n",
        "                                                   +(gy-ry)*(gy-ry)))*180/math.pi\n",
        "            if ry>gy:\n",
        "                goal_dir = -goal_dir\n",
        "            goal_from_rob = (goal_dir - self.percept['rob_dir']+540)%360-180\n",
        "            assert -180 < goal_from_rob <= 180\n",
        "            if goal_from_rob > self.straight_angle:\n",
        "                return \"left\"\n",
        "            elif goal_from_rob < -self.straight_angle:\n",
        "                return \"right\"\n",
        "            else:\n",
        "                return \"straight\"\n",
        "\n",
        "    def close_enough(self,target_pos):\n",
        "        gx,gy = target_pos\n",
        "        rx,ry = self.percept['rob_x_pos'],self.percept['rob_y_pos']\n",
        "        return (gx-rx)**2 + (gy-ry)**2 <= self.close_threshold_squared"
      ],
      "metadata": {
        "id": "RS6UN-3TTF9y"
      },
      "execution_count": null,
      "outputs": []
    },
    {
      "cell_type": "markdown",
      "source": [
        "The top layer treats the middle layer as its environment. Note that the top layer tells it the locations to visit."
      ],
      "metadata": {
        "id": "eLT80Qt8K5_n"
      }
    },
    {
      "cell_type": "code",
      "source": [
        "class Rob_top_layer(Environment):\n",
        "    def __init__(self, middle, timeout=200, locations = {'mail':(-5,10),\n",
        "                          'o103':(50,10), 'o109':(100,10),'storage':(101,51)} ):\n",
        "        \"\"\"middle is the middle layer\n",
        "        timeout is the number of steps the middle layer goes before giving up\n",
        "        locations is a loc:pos dictionary\n",
        "            where loc is a named location, and pos is an (x,y) position.\n",
        "        \"\"\"\n",
        "        self.middle = middle\n",
        "        self.timeout = timeout  # number of steps before the middle layer should give up\n",
        "        self.locations = locations\n",
        "\n",
        "    def do(self,plan):\n",
        "        \"\"\"carry out actions.\n",
        "        actions is of the form {'visit':list_of_locations}\n",
        "        It visits the locations in turn.\n",
        "        \"\"\"\n",
        "        to_do = plan['visit']\n",
        "        for loc in to_do:\n",
        "            position = self.locations[loc]\n",
        "            arrived = self.middle.do({'go_to':position, 'timeout':self.timeout})\n",
        "            self.display(1,\"Arrived at\",loc,arrived)\n",
        "\n"
      ],
      "metadata": {
        "id": "EEMvwXVRTRmY"
      },
      "execution_count": null,
      "outputs": []
    },
    {
      "cell_type": "markdown",
      "source": [
        "The following is used to plot the locations, the walls and (eventually) the movement of the robot. It can either plot the movement if the robot as it is going (with the default *env.plotting = True*), or not plot it as it is going (*setting env.plotting = False*; in this case the trace can be plotted using *pl.plot run()*)."
      ],
      "metadata": {
        "id": "dRgMBUIJLZRa"
      }
    },
    {
      "cell_type": "code",
      "source": [
        "import matplotlib.pyplot as plt\n",
        "\n",
        "class Plot_env(Displayable):\n",
        "    def __init__(self, body,top):\n",
        "        \"\"\"sets up the plot\n",
        "        \"\"\"\n",
        "        self.body = body\n",
        "        self.top = top\n",
        "        plt.ion()\n",
        "        plt.axes().set_aspect('equal')\n",
        "        self.redraw()\n",
        "\n",
        "    def redraw(self):\n",
        "        plt.clf()\n",
        "        for wall in body.env.walls:\n",
        "            ((x0,y0),(x1,y1)) = wall\n",
        "            plt.plot([x0,x1],[y0,y1],\"-k\",linewidth=3)\n",
        "        for loc in top.locations:\n",
        "            (x,y) = top.locations[loc]\n",
        "            plt.plot([x],[y],\"k<\")\n",
        "            plt.text(x+1.0,y+0.5,loc) # print the label above and to the right\n",
        "        plt.plot([body.rob_x],[body.rob_y],\"go\")\n",
        "        plt.gca().figure.canvas.draw()\n",
        "        if self.body.history or self.body.wall_history:\n",
        "            self.plot_run()\n",
        "\n",
        "    def plot_run(self):\n",
        "        \"\"\"plots the history after the agent has finished.\n",
        "        This is typically only used if body.plotting==False\n",
        "        \"\"\"\n",
        "        if self.body.history:\n",
        "            xs,ys = zip(*self.body.history)\n",
        "            plt.plot(xs,ys,\"go\")\n",
        "        if self.body.wall_history:\n",
        "            wxs,wys = zip(*self.body.wall_history)\n",
        "            plt.plot(wxs,wys,\"ro\")\n",
        "\n",
        "\n",
        "env = Rob_env({((20,0),(30,20)), ((70,-5),(70,25))})\n",
        "body = Rob_body(env)\n",
        "middle = Rob_middle_layer(body)\n",
        "top = Rob_top_layer(middle)\n",
        "pl=Plot_env(body,top)\n",
        "\n",
        "top.do({'visit':['o109','storage','o109','o103']})\n",
        "middle.do({'go_to':(30,-10), 'timeout':200})\n",
        "\n",
        "pl.plot_run() # Comment it and use env.plotting = True for seeing the movements step by step"
      ],
      "metadata": {
        "colab": {
          "base_uri": "https://localhost:8080/"
        },
        "id": "oQqUxr0BLpC8",
        "outputId": "edaa7044-6e03-4d8a-e59d-aa418d887995"
      },
      "execution_count": null,
      "outputs": [
        {
          "output_type": "stream",
          "name": "stdout",
          "text": [
            "Arrived at o109 {'arrived': True}\n",
            "Arrived at storage {'arrived': True}\n",
            "Arrived at o109 {'arrived': True}\n",
            "Arrived at o103 {'arrived': True}\n"
          ]
        },
        {
          "output_type": "display_data",
          "data": {
            "text/plain": [
              "<Figure size 640x480 with 1 Axes>"
            ],
            "image/png": "[encoded data removed]"
          },
          "metadata": {}
        }
      ]
    },
    {
      "cell_type": "markdown",
      "source": [
        "A trace of the trajectory of the agent. Red dots correspond to the\n",
        "whisker sensor being on; the green dot to the whisker sensor being off. The agent starts at position (0, 0) facing up."
      ],
      "metadata": {
        "id": "NC_9To2QRlab"
      }
    }
  ]
}