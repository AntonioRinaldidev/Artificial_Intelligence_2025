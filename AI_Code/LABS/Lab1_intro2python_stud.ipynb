{
  "cells": [
    {
      "cell_type": "markdown",
      "metadata": {
        "id": "fOXHtqK1l0La"
      },
      "source": [
        "# Lab 1: Introduction to Python\n"
      ]
    },
    {
      "cell_type": "markdown",
      "metadata": {
        "id": "Qe5edulQmI3y"
      },
      "source": [
        "## Jupyter notebook\n",
        "This is an interactive document that can contain both text, Python code (`print('hello world!')`), images (<img src=\"https://www.tensorflow.org/images/colab_logo_32px.png\" />), and equations ($x+y= 0$).\n",
        "\n",
        "A notebook is made up by cells."
      ]
    },
    {
      "cell_type": "code",
      "execution_count": null,
      "metadata": {
        "id": "MOMpHGFpmIa3",
        "colab": {
          "base_uri": "https://localhost:8080/"
        },
        "outputId": "f1bf7cbc-4e7c-46df-b0a5-25d4ab048b10"
      },
      "outputs": [
        {
          "output_type": "stream",
          "name": "stdout",
          "text": [
            "hello world!\n"
          ]
        }
      ],
      "source": [
        "print('hello world!')"
      ]
    },
    {
      "cell_type": "markdown",
      "metadata": {
        "id": "hLorbZNjmzuS"
      },
      "source": [
        "To execute the whole code inside a cell, press the play button or the `Shift+Enter` (or `Ctrl+Enter`) combination."
      ]
    },
    {
      "cell_type": "markdown",
      "metadata": {
        "id": "SSFDxESYnS4p"
      },
      "source": [
        "## Base instructions\n"
      ]
    },
    {
      "cell_type": "code",
      "execution_count": null,
      "metadata": {
        "colab": {
          "base_uri": "https://localhost:8080/"
        },
        "id": "sVpGKRUDnWkO",
        "outputId": "a6455538-b103-4c2c-e77d-935990b7a843"
      },
      "outputs": [
        {
          "output_type": "execute_result",
          "data": {
            "text/plain": [
              "5"
            ]
          },
          "metadata": {},
          "execution_count": 2
        }
      ],
      "source": [
        "# perform a simple sum\n",
        "2+3"
      ]
    },
    {
      "cell_type": "code",
      "execution_count": null,
      "metadata": {
        "id": "fFpQ2FyYnqr3"
      },
      "outputs": [],
      "source": [
        "# assign new variables\n",
        "v = 2 + 3\n",
        "a, b = 123, 456"
      ]
    },
    {
      "cell_type": "code",
      "execution_count": null,
      "metadata": {
        "colab": {
          "base_uri": "https://localhost:8080/"
        },
        "id": "RXdFFWFnoHSx",
        "outputId": "1c7ba636-7872-473e-9f93-3fbad27a89df"
      },
      "outputs": [
        {
          "output_type": "stream",
          "name": "stdout",
          "text": [
            "10750984 <class 'int'> 5\n"
          ]
        }
      ],
      "source": [
        "# check the identity, the type, and the value of an object\n",
        "print(id(v), type(v), v)"
      ]
    },
    {
      "cell_type": "code",
      "execution_count": null,
      "metadata": {
        "colab": {
          "base_uri": "https://localhost:8080/"
        },
        "id": "FZwh_-Fss-wi",
        "outputId": "352b72a6-7e3f-4cb6-cdb8-6690e0ab73ed"
      },
      "outputs": [
        {
          "output_type": "stream",
          "name": "stdout",
          "text": [
            "Help on int object:\n",
            "\n",
            "class int(object)\n",
            " |  int([x]) -> integer\n",
            " |  int(x, base=10) -> integer\n",
            " |  \n",
            " |  Convert a number or string to an integer, or return 0 if no arguments\n",
            " |  are given.  If x is a number, return x.__int__().  For floating point\n",
            " |  numbers, this truncates towards zero.\n",
            " |  \n",
            " |  If x is not a number or if base is given, then x must be a string,\n",
            " |  bytes, or bytearray instance representing an integer literal in the\n",
            " |  given base.  The literal can be preceded by '+' or '-' and be surrounded\n",
            " |  by whitespace.  The base defaults to 10.  Valid bases are 0 and 2-36.\n",
            " |  Base 0 means to interpret the base from the string as an integer literal.\n",
            " |  >>> int('0b100', base=0)\n",
            " |  4\n",
            " |  \n",
            " |  Built-in subclasses:\n",
            " |      bool\n",
            " |  \n",
            " |  Methods defined here:\n",
            " |  \n",
            " |  __abs__(self, /)\n",
            " |      abs(self)\n",
            " |  \n",
            " |  __add__(self, value, /)\n",
            " |      Return self+value.\n",
            " |  \n",
            " |  __and__(self, value, /)\n",
            " |      Return self&value.\n",
            " |  \n",
            " |  __bool__(self, /)\n",
            " |      True if self else False\n",
            " |  \n",
            " |  __ceil__(...)\n",
            " |      Ceiling of an Integral returns itself.\n",
            " |  \n",
            " |  __divmod__(self, value, /)\n",
            " |      Return divmod(self, value).\n",
            " |  \n",
            " |  __eq__(self, value, /)\n",
            " |      Return self==value.\n",
            " |  \n",
            " |  __float__(self, /)\n",
            " |      float(self)\n",
            " |  \n",
            " |  __floor__(...)\n",
            " |      Flooring an Integral returns itself.\n",
            " |  \n",
            " |  __floordiv__(self, value, /)\n",
            " |      Return self//value.\n",
            " |  \n",
            " |  __format__(self, format_spec, /)\n",
            " |      Default object formatter.\n",
            " |  \n",
            " |  __ge__(self, value, /)\n",
            " |      Return self>=value.\n",
            " |  \n",
            " |  __getattribute__(self, name, /)\n",
            " |      Return getattr(self, name).\n",
            " |  \n",
            " |  __getnewargs__(self, /)\n",
            " |  \n",
            " |  __gt__(self, value, /)\n",
            " |      Return self>value.\n",
            " |  \n",
            " |  __hash__(self, /)\n",
            " |      Return hash(self).\n",
            " |  \n",
            " |  __index__(self, /)\n",
            " |      Return self converted to an integer, if self is suitable for use as an index into a list.\n",
            " |  \n",
            " |  __int__(self, /)\n",
            " |      int(self)\n",
            " |  \n",
            " |  __invert__(self, /)\n",
            " |      ~self\n",
            " |  \n",
            " |  __le__(self, value, /)\n",
            " |      Return self<=value.\n",
            " |  \n",
            " |  __lshift__(self, value, /)\n",
            " |      Return self<<value.\n",
            " |  \n",
            " |  __lt__(self, value, /)\n",
            " |      Return self<value.\n",
            " |  \n",
            " |  __mod__(self, value, /)\n",
            " |      Return self%value.\n",
            " |  \n",
            " |  __mul__(self, value, /)\n",
            " |      Return self*value.\n",
            " |  \n",
            " |  __ne__(self, value, /)\n",
            " |      Return self!=value.\n",
            " |  \n",
            " |  __neg__(self, /)\n",
            " |      -self\n",
            " |  \n",
            " |  __or__(self, value, /)\n",
            " |      Return self|value.\n",
            " |  \n",
            " |  __pos__(self, /)\n",
            " |      +self\n",
            " |  \n",
            " |  __pow__(self, value, mod=None, /)\n",
            " |      Return pow(self, value, mod).\n",
            " |  \n",
            " |  __radd__(self, value, /)\n",
            " |      Return value+self.\n",
            " |  \n",
            " |  __rand__(self, value, /)\n",
            " |      Return value&self.\n",
            " |  \n",
            " |  __rdivmod__(self, value, /)\n",
            " |      Return divmod(value, self).\n",
            " |  \n",
            " |  __repr__(self, /)\n",
            " |      Return repr(self).\n",
            " |  \n",
            " |  __rfloordiv__(self, value, /)\n",
            " |      Return value//self.\n",
            " |  \n",
            " |  __rlshift__(self, value, /)\n",
            " |      Return value<<self.\n",
            " |  \n",
            " |  __rmod__(self, value, /)\n",
            " |      Return value%self.\n",
            " |  \n",
            " |  __rmul__(self, value, /)\n",
            " |      Return value*self.\n",
            " |  \n",
            " |  __ror__(self, value, /)\n",
            " |      Return value|self.\n",
            " |  \n",
            " |  __round__(...)\n",
            " |      Rounding an Integral returns itself.\n",
            " |      \n",
            " |      Rounding with an ndigits argument also returns an integer.\n",
            " |  \n",
            " |  __rpow__(self, value, mod=None, /)\n",
            " |      Return pow(value, self, mod).\n",
            " |  \n",
            " |  __rrshift__(self, value, /)\n",
            " |      Return value>>self.\n",
            " |  \n",
            " |  __rshift__(self, value, /)\n",
            " |      Return self>>value.\n",
            " |  \n",
            " |  __rsub__(self, value, /)\n",
            " |      Return value-self.\n",
            " |  \n",
            " |  __rtruediv__(self, value, /)\n",
            " |      Return value/self.\n",
            " |  \n",
            " |  __rxor__(self, value, /)\n",
            " |      Return value^self.\n",
            " |  \n",
            " |  __sizeof__(self, /)\n",
            " |      Returns size in memory, in bytes.\n",
            " |  \n",
            " |  __sub__(self, value, /)\n",
            " |      Return self-value.\n",
            " |  \n",
            " |  __truediv__(self, value, /)\n",
            " |      Return self/value.\n",
            " |  \n",
            " |  __trunc__(...)\n",
            " |      Truncating an Integral returns itself.\n",
            " |  \n",
            " |  __xor__(self, value, /)\n",
            " |      Return self^value.\n",
            " |  \n",
            " |  as_integer_ratio(self, /)\n",
            " |      Return integer ratio.\n",
            " |      \n",
            " |      Return a pair of integers, whose ratio is exactly equal to the original int\n",
            " |      and with a positive denominator.\n",
            " |      \n",
            " |      >>> (10).as_integer_ratio()\n",
            " |      (10, 1)\n",
            " |      >>> (-10).as_integer_ratio()\n",
            " |      (-10, 1)\n",
            " |      >>> (0).as_integer_ratio()\n",
            " |      (0, 1)\n",
            " |  \n",
            " |  bit_count(self, /)\n",
            " |      Number of ones in the binary representation of the absolute value of self.\n",
            " |      \n",
            " |      Also known as the population count.\n",
            " |      \n",
            " |      >>> bin(13)\n",
            " |      '0b1101'\n",
            " |      >>> (13).bit_count()\n",
            " |      3\n",
            " |  \n",
            " |  bit_length(self, /)\n",
            " |      Number of bits necessary to represent self in binary.\n",
            " |      \n",
            " |      >>> bin(37)\n",
            " |      '0b100101'\n",
            " |      >>> (37).bit_length()\n",
            " |      6\n",
            " |  \n",
            " |  conjugate(...)\n",
            " |      Returns self, the complex conjugate of any int.\n",
            " |  \n",
            " |  to_bytes(self, /, length=1, byteorder='big', *, signed=False)\n",
            " |      Return an array of bytes representing an integer.\n",
            " |      \n",
            " |      length\n",
            " |        Length of bytes object to use.  An OverflowError is raised if the\n",
            " |        integer is not representable with the given number of bytes.  Default\n",
            " |        is length 1.\n",
            " |      byteorder\n",
            " |        The byte order used to represent the integer.  If byteorder is 'big',\n",
            " |        the most significant byte is at the beginning of the byte array.  If\n",
            " |        byteorder is 'little', the most significant byte is at the end of the\n",
            " |        byte array.  To request the native byte order of the host system, use\n",
            " |        `sys.byteorder' as the byte order value.  Default is to use 'big'.\n",
            " |      signed\n",
            " |        Determines whether two's complement is used to represent the integer.\n",
            " |        If signed is False and a negative integer is given, an OverflowError\n",
            " |        is raised.\n",
            " |  \n",
            " |  ----------------------------------------------------------------------\n",
            " |  Class methods defined here:\n",
            " |  \n",
            " |  from_bytes(bytes, byteorder='big', *, signed=False)\n",
            " |      Return the integer represented by the given array of bytes.\n",
            " |      \n",
            " |      bytes\n",
            " |        Holds the array of bytes to convert.  The argument must either\n",
            " |        support the buffer protocol or be an iterable object producing bytes.\n",
            " |        Bytes and bytearray are examples of built-in objects that support the\n",
            " |        buffer protocol.\n",
            " |      byteorder\n",
            " |        The byte order used to represent the integer.  If byteorder is 'big',\n",
            " |        the most significant byte is at the beginning of the byte array.  If\n",
            " |        byteorder is 'little', the most significant byte is at the end of the\n",
            " |        byte array.  To request the native byte order of the host system, use\n",
            " |        `sys.byteorder' as the byte order value.  Default is to use 'big'.\n",
            " |      signed\n",
            " |        Indicates whether two's complement is used to represent the integer.\n",
            " |  \n",
            " |  ----------------------------------------------------------------------\n",
            " |  Static methods defined here:\n",
            " |  \n",
            " |  __new__(*args, **kwargs)\n",
            " |      Create and return a new object.  See help(type) for accurate signature.\n",
            " |  \n",
            " |  ----------------------------------------------------------------------\n",
            " |  Data descriptors defined here:\n",
            " |  \n",
            " |  denominator\n",
            " |      the denominator of a rational number in lowest terms\n",
            " |  \n",
            " |  imag\n",
            " |      the imaginary part of a complex number\n",
            " |  \n",
            " |  numerator\n",
            " |      the numerator of a rational number in lowest terms\n",
            " |  \n",
            " |  real\n",
            " |      the real part of a complex number\n",
            "\n"
          ]
        }
      ],
      "source": [
        "# you can also use some built-in functions to investigate any object\n",
        "help(v)"
      ]
    },
    {
      "cell_type": "code",
      "execution_count": null,
      "metadata": {
        "colab": {
          "base_uri": "https://localhost:8080/"
        },
        "id": "QuiIbsTDtHg8",
        "outputId": "f5b72766-6683-4016-9b4d-018fb736b49e"
      },
      "outputs": [
        {
          "output_type": "execute_result",
          "data": {
            "text/plain": [
              "['__abs__',\n",
              " '__add__',\n",
              " '__and__',\n",
              " '__bool__',\n",
              " '__ceil__',\n",
              " '__class__',\n",
              " '__delattr__',\n",
              " '__dir__',\n",
              " '__divmod__',\n",
              " '__doc__',\n",
              " '__eq__',\n",
              " '__float__',\n",
              " '__floor__',\n",
              " '__floordiv__',\n",
              " '__format__',\n",
              " '__ge__',\n",
              " '__getattribute__',\n",
              " '__getnewargs__',\n",
              " '__getstate__',\n",
              " '__gt__',\n",
              " '__hash__',\n",
              " '__index__',\n",
              " '__init__',\n",
              " '__init_subclass__',\n",
              " '__int__',\n",
              " '__invert__',\n",
              " '__le__',\n",
              " '__lshift__',\n",
              " '__lt__',\n",
              " '__mod__',\n",
              " '__mul__',\n",
              " '__ne__',\n",
              " '__neg__',\n",
              " '__new__',\n",
              " '__or__',\n",
              " '__pos__',\n",
              " '__pow__',\n",
              " '__radd__',\n",
              " '__rand__',\n",
              " '__rdivmod__',\n",
              " '__reduce__',\n",
              " '__reduce_ex__',\n",
              " '__repr__',\n",
              " '__rfloordiv__',\n",
              " '__rlshift__',\n",
              " '__rmod__',\n",
              " '__rmul__',\n",
              " '__ror__',\n",
              " '__round__',\n",
              " '__rpow__',\n",
              " '__rrshift__',\n",
              " '__rshift__',\n",
              " '__rsub__',\n",
              " '__rtruediv__',\n",
              " '__rxor__',\n",
              " '__setattr__',\n",
              " '__sizeof__',\n",
              " '__str__',\n",
              " '__sub__',\n",
              " '__subclasshook__',\n",
              " '__truediv__',\n",
              " '__trunc__',\n",
              " '__xor__',\n",
              " 'as_integer_ratio',\n",
              " 'bit_count',\n",
              " 'bit_length',\n",
              " 'conjugate',\n",
              " 'denominator',\n",
              " 'from_bytes',\n",
              " 'imag',\n",
              " 'numerator',\n",
              " 'real',\n",
              " 'to_bytes']"
            ]
          },
          "metadata": {},
          "execution_count": 6
        }
      ],
      "source": [
        "dir(v)"
      ]
    },
    {
      "cell_type": "markdown",
      "metadata": {
        "id": "6y81lxpDsFFO"
      },
      "source": [
        "## Different numeric types"
      ]
    },
    {
      "cell_type": "code",
      "execution_count": null,
      "metadata": {
        "colab": {
          "base_uri": "https://localhost:8080/"
        },
        "id": "Swa0-0zynu2g",
        "outputId": "283564f5-b830-4140-d467-0a649b7e376d"
      },
      "outputs": [
        {
          "output_type": "stream",
          "name": "stdout",
          "text": [
            "5 5.0 <class 'float'> True <class 'bool'>\n",
            "False\n",
            "False\n"
          ]
        }
      ],
      "source": [
        "# change the type of an object (by creating a new object!)\n",
        "print(v, float(v), type(float(v)), bool(v), type(bool(v)))\n",
        "print(bool(0))\n",
        "print(bool([]))"
      ]
    },
    {
      "cell_type": "code",
      "execution_count": null,
      "metadata": {
        "id": "sbJQKQ-4o4nB"
      },
      "outputs": [],
      "source": [
        "# use float values\n",
        "f = 3.43\n",
        "# use bool values\n",
        "b = True\n",
        "# use complex types\n",
        "a = 3 + 4j"
      ]
    },
    {
      "cell_type": "code",
      "execution_count": null,
      "metadata": {
        "colab": {
          "base_uri": "https://localhost:8080/"
        },
        "id": "kOxbBi-PpUZo",
        "outputId": "cf5a2276-c9e7-47e3-b9f4-ef4580e46bf9"
      },
      "outputs": [
        {
          "output_type": "stream",
          "name": "stdout",
          "text": [
            "10 < 20 False\n",
            "8 2 15 1.6666666666666667 1 2 125\n"
          ]
        }
      ],
      "source": [
        "# use comparison operators\n",
        "print(\"10 < 20\", 10 > 20)\n",
        "\n",
        "# sum, sub., mult., div, floor div, modulo, power\n",
        "print(5+3, 5-3, 5*3, 5/3, 5//3, 5%3, 5**3)"
      ]
    },
    {
      "cell_type": "markdown",
      "metadata": {
        "id": "55JDdmvhr82K"
      },
      "source": [
        "## Strings"
      ]
    },
    {
      "cell_type": "code",
      "execution_count": null,
      "metadata": {
        "colab": {
          "base_uri": "https://localhost:8080/"
        },
        "id": "TeLoxilfqm_n",
        "outputId": "6d4127c2-0fe0-4691-a69f-a9d90d409a7e"
      },
      "outputs": [
        {
          "output_type": "stream",
          "name": "stdout",
          "text": [
            "300 + 20 = 320\n",
            "hellohello\n",
            "hellohellohellohellohellohellohellohellohellohello\n",
            "65\n",
            "A\n",
            "E\n"
          ]
        }
      ],
      "source": [
        "# use strings\n",
        "greeting, destination = 'hello', \"world\"\n",
        "\n",
        "# use formatting operators\n",
        "print(\"{0} + {1} = {2}\".format(300, 20, 320))\n",
        "\n",
        "# string operations\n",
        "print(greeting+greeting)\n",
        "print(greeting*10)\n",
        "\n",
        "# character conversion\n",
        "print(ord('A'))\n",
        "print(chr(65))\n",
        "# character operations\n",
        "print(chr(ord('A') + 4))"
      ]
    },
    {
      "cell_type": "code",
      "execution_count": null,
      "metadata": {
        "colab": {
          "base_uri": "https://localhost:8080/"
        },
        "id": "lXaSnwD10YIL",
        "outputId": "923f7bdc-4d84-4275-a317-80283abf196d"
      },
      "outputs": [
        {
          "output_type": "stream",
          "name": "stdout",
          "text": [
            "h-e-l-l-o\n",
            "['this', 'is', 'a', 'sentence']\n",
            "hi!\n"
          ]
        }
      ],
      "source": [
        "# string functions\n",
        "print(\"-\".join('hello'))\n",
        "print(\"this is a sentence\".split(' '))\n",
        "print(\"HI!\".lower())"
      ]
    },
    {
      "cell_type": "code",
      "execution_count": null,
      "metadata": {
        "colab": {
          "base_uri": "https://localhost:8080/"
        },
        "id": "BZqEEZ7rq40V",
        "outputId": "57a37aca-196f-4ee7-dfc0-87c4c935e02a"
      },
      "outputs": [
        {
          "output_type": "stream",
          "name": "stdout",
          "text": [
            "insert a number: 4\n",
            "4 <class 'str'>\n"
          ]
        }
      ],
      "source": [
        "# input a value\n",
        "n = input('insert a number: ')\n",
        "print(n, type(n))"
      ]
    },
    {
      "cell_type": "markdown",
      "metadata": {
        "id": "TWO5S_oYrlNx"
      },
      "source": [
        "## Sequences"
      ]
    },
    {
      "cell_type": "code",
      "execution_count": null,
      "metadata": {
        "colab": {
          "base_uri": "https://localhost:8080/"
        },
        "id": "noDoj9OSrBxD",
        "outputId": "ca8d4c54-c9ba-4f5b-aea3-5e6c379d5e48"
      },
      "outputs": [
        {
          "output_type": "stream",
          "name": "stdout",
          "text": [
            "1\n",
            "star\n",
            "[1, 2, 3]\n",
            "['star']\n",
            "[3, 9, 15, 21, 27, 33, 39, 45, 51, 57, 63, 69, 75, 81, 87, 93, 99]\n"
          ]
        }
      ],
      "source": [
        "# use sequences\n",
        "l = [1, 2, 3, 'star'] #list\n",
        "t = (10, 5, 95) #tuple\n",
        "\n",
        "# create ranges (i.e. [3, 6, 9, 12..., 99] )\n",
        "r = list(range(3, 100, 3))\n",
        "\n",
        "# indexing\n",
        "print(l[0])\n",
        "print(l[-1])\n",
        "print(l[0:3])\n",
        "# slicing\n",
        "print(l[3:])\n",
        "# striding\n",
        "print(r[::2])"
      ]
    },
    {
      "cell_type": "code",
      "execution_count": null,
      "metadata": {
        "colab": {
          "base_uri": "https://localhost:8080/",
          "height": 159
        },
        "id": "xPT6yDcPreA0",
        "outputId": "2d64ed4b-4d56-4883-cf2c-0be61c347255"
      },
      "outputs": [
        {
          "output_type": "error",
          "ename": "TypeError",
          "evalue": "'tuple' object does not support item assignment",
          "traceback": [
            "\u001b[0;31m---------------------------------------------------------------------------\u001b[0m",
            "\u001b[0;31mTypeError\u001b[0m                                 Traceback (most recent call last)",
            "\u001b[0;32m<ipython-input-16-c140f732b546>\u001b[0m in \u001b[0;36m<cell line: 0>\u001b[0;34m()\u001b[0m\n\u001b[1;32m      1\u001b[0m \u001b[0;31m# this won't work!\u001b[0m\u001b[0;34m\u001b[0m\u001b[0;34m\u001b[0m\u001b[0m\n\u001b[0;32m----> 2\u001b[0;31m \u001b[0mt\u001b[0m\u001b[0;34m[\u001b[0m\u001b[0;36m2\u001b[0m\u001b[0;34m]\u001b[0m \u001b[0;34m=\u001b[0m \u001b[0;36m98\u001b[0m\u001b[0;34m\u001b[0m\u001b[0;34m\u001b[0m\u001b[0m\n\u001b[0m",
            "\u001b[0;31mTypeError\u001b[0m: 'tuple' object does not support item assignment"
          ]
        }
      ],
      "source": [
        "# this won't work!\n",
        "t[2] = 98"
      ]
    },
    {
      "cell_type": "code",
      "execution_count": null,
      "metadata": {
        "id": "jRD_8FQGsMd0",
        "colab": {
          "base_uri": "https://localhost:8080/",
          "height": 35
        },
        "outputId": "c20c4105-c04a-4192-aaa4-d2481065c922"
      },
      "outputs": [
        {
          "output_type": "execute_result",
          "data": {
            "text/plain": [
              "'star'"
            ],
            "application/vnd.google.colaboratory.intrinsic+json": {
              "type": "string"
            }
          },
          "metadata": {},
          "execution_count": 17
        }
      ],
      "source": [
        "# removing and returning a value\n",
        "l.pop(-1)"
      ]
    },
    {
      "cell_type": "code",
      "execution_count": null,
      "metadata": {
        "id": "htJi3ZovskLz",
        "colab": {
          "base_uri": "https://localhost:8080/"
        },
        "outputId": "3e265f1a-212c-43b7-a2be-7b6cdc95c366"
      },
      "outputs": [
        {
          "output_type": "stream",
          "name": "stdout",
          "text": [
            "['⋆', 3, 2, 1]\n"
          ]
        }
      ],
      "source": [
        "# add a new value\n",
        "l.append('⋆')\n",
        "# reversing it\n",
        "l.reverse()\n",
        "print(l)"
      ]
    },
    {
      "cell_type": "markdown",
      "metadata": {
        "id": "sgKSu8m7tnE4"
      },
      "source": [
        "# List comprehension\n",
        "\n",
        "* Basic (used to transform)\n",
        "`[f(x) for x in l] = [f(l[0]), ..., f(l[N])]`\n",
        "\n",
        "* Conditional (used to filter)\n",
        "`[f(x) for x in l if g(x)]`\n",
        "\n",
        "* Combination (used for cartesian product, etc.)\n",
        "`[f(x1,x2) for x1 in l1 for x2 in l2]`"
      ]
    },
    {
      "cell_type": "code",
      "execution_count": null,
      "metadata": {
        "id": "lXAZyW6evH7x",
        "colab": {
          "base_uri": "https://localhost:8080/"
        },
        "outputId": "b8806494-cbc5-4a09-83bd-67509d9da4a2"
      },
      "outputs": [
        {
          "output_type": "stream",
          "name": "stdout",
          "text": [
            "[4, 9, 25, 49, 121, 169]\n",
            "[121, 169]\n"
          ]
        },
        {
          "output_type": "execute_result",
          "data": {
            "text/plain": [
              "[(-1, 0), (-1, 1), (0, -1), (0, 1), (1, -1), (1, 0)]"
            ]
          },
          "metadata": {},
          "execution_count": 19
        }
      ],
      "source": [
        "l = [2, 3, 5, 7, 11, 13]\n",
        "# basic list comprehension\n",
        "print([i**2 for i in l])\n",
        "# conditional list comprehension\n",
        "print([i**2 for i in l if i >= 10])\n",
        "# combination + condition\n",
        "l1 = [-1, 0, 1]\n",
        "l2 = [-1, 0, 1]\n",
        "[(x,y) for x in l1 for y in l2 if x != y]"
      ]
    },
    {
      "cell_type": "markdown",
      "metadata": {
        "id": "YFW2MT6IBK-B"
      },
      "source": [
        "## Dictionaries"
      ]
    },
    {
      "cell_type": "code",
      "execution_count": null,
      "metadata": {
        "colab": {
          "base_uri": "https://localhost:8080/"
        },
        "id": "NySf-bGR65bH",
        "outputId": "56722e62-7680-4e88-b391-fcbaeb4caff9"
      },
      "outputs": [
        {
          "output_type": "stream",
          "name": "stdout",
          "text": [
            "dict_keys(['hi', 'pizza', 'rabbit'])\n",
            "dict_values(['👋', '🍕', '🐇'])\n",
            "🍕\n"
          ]
        }
      ],
      "source": [
        "d = {'hi': '👋', 'pizza': '🍕', 'rabbit': '🐇'} #dictionary\n",
        "print(d.keys())\n",
        "print(d.values())\n",
        "print(d['pizza'])"
      ]
    },
    {
      "cell_type": "markdown",
      "metadata": {
        "id": "omxcXAfkrzAW"
      },
      "source": [
        "## Variables and references"
      ]
    },
    {
      "cell_type": "code",
      "execution_count": null,
      "metadata": {
        "colab": {
          "base_uri": "https://localhost:8080/"
        },
        "id": "jDmF4p9cCMoi",
        "outputId": "324f37e8-84f4-4c1f-a348-b27fef91ba0f"
      },
      "outputs": [
        {
          "output_type": "execute_result",
          "data": {
            "text/plain": [
              "['uno', 'due']"
            ]
          },
          "metadata": {},
          "execution_count": 21
        }
      ],
      "source": [
        "h = ['uno', 'due']\n",
        "h"
      ]
    },
    {
      "cell_type": "markdown",
      "metadata": {
        "id": "kGf7VwdhCSrg"
      },
      "source": [
        "<img alt=\"Diagramma dopo istruzione 1\" src=https://www.math.unipd.it/~mpolato/didattica/pr1920/notebook_imgs/list2-1.png width=\"250\">"
      ]
    },
    {
      "cell_type": "code",
      "execution_count": null,
      "metadata": {
        "id": "GAiPaQKtCZlc",
        "colab": {
          "base_uri": "https://localhost:8080/"
        },
        "outputId": "c7998316-b053-4f4d-c1e1-1eacf3259a73"
      },
      "outputs": [
        {
          "output_type": "execute_result",
          "data": {
            "text/plain": [
              "('uno', 'due', ['uno', 'due'])"
            ]
          },
          "metadata": {},
          "execution_count": 22
        }
      ],
      "source": [
        "t = (h[0], h[1], h)\n",
        "t"
      ]
    },
    {
      "cell_type": "markdown",
      "metadata": {
        "id": "WEtnQdXZCeYu"
      },
      "source": [
        "<img alt=\"Diagramma dopo istruzione 2\" src=https://www.math.unipd.it/~mpolato/didattica/pr1920/notebook_imgs/list2-2.png width=\"350\">"
      ]
    },
    {
      "cell_type": "code",
      "execution_count": null,
      "metadata": {
        "id": "yjeU5jSPCx07",
        "colab": {
          "base_uri": "https://localhost:8080/"
        },
        "outputId": "6c2cc148-6788-465e-871d-4bd0fc8e333f"
      },
      "outputs": [
        {
          "output_type": "stream",
          "name": "stdout",
          "text": [
            "[3, 'due']\n",
            "('uno', 'due', [3, 'due'])\n"
          ]
        }
      ],
      "source": [
        "h[0] = 3\n",
        "print(h)\n",
        "print(t)"
      ]
    },
    {
      "cell_type": "markdown",
      "metadata": {
        "id": "iUMiww_0C2ma"
      },
      "source": [
        "<img alt=\"Diagramma dopo istruzione 2\" src=https://www.math.unipd.it/~mpolato/didattica/pr1920/notebook_imgs/list2-3.png width=\"350\">"
      ]
    },
    {
      "cell_type": "code",
      "execution_count": null,
      "metadata": {
        "id": "1fhtxoJuCyjA",
        "colab": {
          "base_uri": "https://localhost:8080/"
        },
        "outputId": "a60d3e98-fe11-439b-d740-c8fff6cc66e7"
      },
      "outputs": [
        {
          "output_type": "stream",
          "name": "stdout",
          "text": [
            "[3, 4]\n",
            "('uno', 'due', [3, 4])\n"
          ]
        }
      ],
      "source": [
        "h[1] = 4\n",
        "print(h)\n",
        "print(t)"
      ]
    },
    {
      "cell_type": "markdown",
      "metadata": {
        "id": "l338DZhrC6Sg"
      },
      "source": [
        "<img alt=\"Diagramma dopo istruzione 2\" src=https://www.math.unipd.it/~mpolato/didattica/pr1920/notebook_imgs/list2-4.png width=\"350\">"
      ]
    },
    {
      "cell_type": "code",
      "execution_count": null,
      "metadata": {
        "id": "7GHBplgNFH3D",
        "colab": {
          "base_uri": "https://localhost:8080/",
          "height": 141
        },
        "outputId": "b72b31b0-46f5-4ac4-c4b2-196ac8955cc7"
      },
      "outputs": [
        {
          "output_type": "error",
          "ename": "TypeError",
          "evalue": "'tuple' object does not support item assignment",
          "traceback": [
            "\u001b[0;31m---------------------------------------------------------------------------\u001b[0m",
            "\u001b[0;31mTypeError\u001b[0m                                 Traceback (most recent call last)",
            "\u001b[0;32m<ipython-input-25-c8aeb8cd20ae>\u001b[0m in \u001b[0;36m<cell line: 0>\u001b[0;34m()\u001b[0m\n\u001b[0;32m----> 1\u001b[0;31m \u001b[0mt\u001b[0m\u001b[0;34m[\u001b[0m\u001b[0;36m0\u001b[0m\u001b[0;34m]\u001b[0m \u001b[0;34m=\u001b[0m \u001b[0;36m1\u001b[0m\u001b[0;34m\u001b[0m\u001b[0;34m\u001b[0m\u001b[0m\n\u001b[0m",
            "\u001b[0;31mTypeError\u001b[0m: 'tuple' object does not support item assignment"
          ]
        }
      ],
      "source": [
        "t[0] = 1"
      ]
    },
    {
      "cell_type": "markdown",
      "metadata": {
        "id": "7YoibQ2i1izV"
      },
      "source": [
        "## Flow control"
      ]
    },
    {
      "cell_type": "code",
      "execution_count": null,
      "metadata": {
        "id": "IjvQQaET4CZq",
        "colab": {
          "base_uri": "https://localhost:8080/"
        },
        "outputId": "a913b7c8-5ba3-4dd4-a161-059c2aed84e5"
      },
      "outputs": [
        {
          "output_type": "stream",
          "name": "stdout",
          "text": [
            "strictly positive\n"
          ]
        }
      ],
      "source": [
        "# basic flow control\n",
        "x = 10\n",
        "if x < 0:\n",
        "    print('strictly negative')\n",
        "elif x == 0:\n",
        "    print('zero')\n",
        "else:\n",
        "    print('strictly positive')"
      ]
    },
    {
      "cell_type": "code",
      "execution_count": null,
      "metadata": {
        "id": "ANp9t7mi4lNZ",
        "colab": {
          "base_uri": "https://localhost:8080/"
        },
        "outputId": "8100834a-535e-439d-fd6f-30c85dcb2e1f"
      },
      "outputs": [
        {
          "output_type": "stream",
          "name": "stdout",
          "text": [
            "1\n",
            "2\n",
            "3\n"
          ]
        }
      ],
      "source": [
        "# for-iteration\n",
        "for x in [1,2,3]:\n",
        "    print(x)"
      ]
    },
    {
      "cell_type": "code",
      "execution_count": null,
      "metadata": {
        "id": "gyD0xs86_wOG",
        "colab": {
          "base_uri": "https://localhost:8080/"
        },
        "outputId": "bde7193a-ac82-48a8-8ef6-77ae33b52e6b"
      },
      "outputs": [
        {
          "output_type": "stream",
          "name": "stdout",
          "text": [
            "2\n",
            "3\n",
            "5\n",
            "7\n",
            "11\n",
            "13\n"
          ]
        }
      ],
      "source": [
        "for i in range(len(l)):\n",
        "    print(l[i])"
      ]
    },
    {
      "cell_type": "code",
      "execution_count": null,
      "metadata": {
        "id": "vzb9ywsp_xXQ",
        "colab": {
          "base_uri": "https://localhost:8080/"
        },
        "outputId": "3f1a4a11-6890-44f3-a822-a242962ec2ad"
      },
      "outputs": [
        {
          "output_type": "stream",
          "name": "stdout",
          "text": [
            "10\n",
            "19\n",
            "28\n",
            "37\n",
            "46\n",
            "55\n",
            "64\n",
            "73\n",
            "82\n",
            "91\n"
          ]
        }
      ],
      "source": [
        "for x in range(10,100,9):\n",
        "    print(x)"
      ]
    },
    {
      "cell_type": "code",
      "execution_count": null,
      "metadata": {
        "id": "kt3Bi0eu_yOr",
        "colab": {
          "base_uri": "https://localhost:8080/"
        },
        "outputId": "462fbb75-f180-414a-c685-a41e848bb7f0"
      },
      "outputs": [
        {
          "output_type": "stream",
          "name": "stdout",
          "text": [
            "0 A\n",
            "1 B\n",
            "2 C\n",
            "3 D\n",
            "4 E\n",
            "5 F\n",
            "6 G\n",
            "7 H\n",
            "8 I\n",
            "9 J\n",
            "10 K\n",
            "11 L\n",
            "12 M\n",
            "13 N\n",
            "14 O\n",
            "15 P\n",
            "16 Q\n",
            "17 R\n",
            "18 S\n",
            "19 T\n",
            "20 U\n",
            "21 V\n",
            "22 W\n",
            "23 X\n",
            "24 Y\n",
            "25 Z\n",
            "-------\n",
            "0\n",
            "11\n",
            "22\n",
            "33\n",
            "44\n",
            "55\n",
            "66\n",
            "77\n",
            "88\n",
            "99\n"
          ]
        }
      ],
      "source": [
        "for i, x in enumerate([chr(x) for x in range(65, 91)]):\n",
        "    print(i, x)\n",
        "\n",
        "print('-------')\n",
        "\n",
        "for a, b in zip(range(10), range(0,100,10)):\n",
        "    print(a+b)"
      ]
    },
    {
      "cell_type": "code",
      "execution_count": null,
      "metadata": {
        "id": "Tb3GGC4u_zR-",
        "colab": {
          "base_uri": "https://localhost:8080/"
        },
        "outputId": "982f3799-d67c-46c7-ce46-295297b7a4f6"
      },
      "outputs": [
        {
          "output_type": "stream",
          "name": "stdout",
          "text": [
            "107\n"
          ]
        }
      ],
      "source": [
        "# while-iteration\n",
        "import random\n",
        "x = random.randrange(1000)\n",
        "i = 0\n",
        "while x != 1:\n",
        "    i += 1\n",
        "    if x % 2 == 0:\n",
        "        x = x // 2\n",
        "    else:\n",
        "        x = 3 * x + 1\n",
        "print(i)"
      ]
    },
    {
      "cell_type": "markdown",
      "metadata": {
        "id": "-3ohuJR31mUN"
      },
      "source": [
        "## Functions"
      ]
    },
    {
      "cell_type": "code",
      "execution_count": null,
      "metadata": {
        "id": "tTIMw8tW1m_K",
        "colab": {
          "base_uri": "https://localhost:8080/"
        },
        "outputId": "aaf5373e-f146-408e-c646-ef1fa50db08a"
      },
      "outputs": [
        {
          "output_type": "stream",
          "name": "stdout",
          "text": [
            "5\n",
            "2\n",
            "None\n"
          ]
        }
      ],
      "source": [
        "# create a new function\n",
        "def add(x,y):\n",
        "    return x+y\n",
        "\n",
        "print(add(3,2))\n",
        "\n",
        "# create a function with default values\n",
        "def add2(x,y=2):\n",
        "    return x+y\n",
        "\n",
        "print(add2(0))\n",
        "\n",
        "# remember to return a value\n",
        "def nothing():\n",
        "    result = 321\n",
        "\n",
        "print(nothing())"
      ]
    },
    {
      "cell_type": "code",
      "execution_count": null,
      "metadata": {
        "id": "FoF_wsXK9lMW",
        "colab": {
          "base_uri": "https://localhost:8080/",
          "height": 141
        },
        "outputId": "4b027462-ee89-464f-dc8f-7c146c5ae987"
      },
      "outputs": [
        {
          "output_type": "error",
          "ename": "NameError",
          "evalue": "name 'result' is not defined",
          "traceback": [
            "\u001b[0;31m---------------------------------------------------------------------------\u001b[0m",
            "\u001b[0;31mNameError\u001b[0m                                 Traceback (most recent call last)",
            "\u001b[0;32m<ipython-input-33-3e6181b702ec>\u001b[0m in \u001b[0;36m<cell line: 0>\u001b[0;34m()\u001b[0m\n\u001b[0;32m----> 1\u001b[0;31m \u001b[0mprint\u001b[0m\u001b[0;34m(\u001b[0m\u001b[0mresult\u001b[0m\u001b[0;34m)\u001b[0m  \u001b[0;31m# this fails! result is a local variable\u001b[0m\u001b[0;34m\u001b[0m\u001b[0;34m\u001b[0m\u001b[0m\n\u001b[0m",
            "\u001b[0;31mNameError\u001b[0m: name 'result' is not defined"
          ]
        }
      ],
      "source": [
        "print(result)  # this fails! result is a local variable"
      ]
    },
    {
      "cell_type": "code",
      "execution_count": null,
      "metadata": {
        "id": "KbvGj1Mi9n2i",
        "colab": {
          "base_uri": "https://localhost:8080/"
        },
        "outputId": "4d2915f9-3be2-423b-b75a-5fd9ec3bfb1a"
      },
      "outputs": [
        {
          "output_type": "stream",
          "name": "stdout",
          "text": [
            "10\n",
            "🍎 None 🍒\n",
            "123 None None\n"
          ]
        }
      ],
      "source": [
        "# create a function that accepts an unlimited number of values\n",
        "def add_all(*args):\n",
        "    return sum(args)\n",
        "\n",
        "print(add_all(4,3,2,1))\n",
        "\n",
        "# create a function that accepts a keyword-value set of arguments\n",
        "def print_vals(**kwargs):\n",
        "    a = kwargs.get('apple')\n",
        "    b = kwargs.get('banana')\n",
        "    c = kwargs.get('cherry')\n",
        "    print(a,b,c)\n",
        "\n",
        "print_vals(apple='🍎', cherry='🍒')\n",
        "\n",
        "d = {'apple': 123} #you can pass a new dictionary\n",
        "print_vals(**d)"
      ]
    },
    {
      "cell_type": "markdown",
      "metadata": {
        "id": "w6zMJkHU1oZ7"
      },
      "source": [
        "## Classes"
      ]
    },
    {
      "cell_type": "code",
      "execution_count": null,
      "metadata": {
        "id": "QSEfQEuw1qYD",
        "colab": {
          "base_uri": "https://localhost:8080/"
        },
        "outputId": "bee6c752-adbb-4216-bebc-adb3985efef4"
      },
      "outputs": [
        {
          "output_type": "stream",
          "name": "stdout",
          "text": [
            "Hi, I am Gloria Beraldo\n"
          ]
        }
      ],
      "source": [
        "# create a new class\n",
        "class Person:\n",
        "    def __init__(self, name=\"will\", surname=\"smith\"):  # constructor\n",
        "        # fields\n",
        "        self.name = name\n",
        "        self.surname = surname\n",
        "\n",
        "    # Instance methods\n",
        "    def greetings(self):\n",
        "        print(\"Hi, I am {0} {1}\".format(self.name, self.surname))\n",
        "\n",
        "p = Person(name='Gloria', surname='Beraldo')\n",
        "p.greetings()"
      ]
    },
    {
      "cell_type": "code",
      "execution_count": null,
      "metadata": {
        "colab": {
          "base_uri": "https://localhost:8080/"
        },
        "id": "ddjWS2gw8RSn",
        "outputId": "b7178cf0-8f0f-4939-f464-564a4eec3f2a"
      },
      "outputs": [
        {
          "output_type": "stream",
          "name": "stdout",
          "text": [
            "Hi, I am Gloria, and I'm studying\n",
            "I'm studying AI\n",
            "..........I finished!\n",
            "True\n",
            "True\n",
            "True\n",
            "False\n"
          ]
        }
      ],
      "source": [
        "# create a subclass\n",
        "class Student(Person):\n",
        "    def __init__(self, surname, name, course='AI'):\n",
        "        super().__init__(name, surname)\n",
        "        self.course = course\n",
        "    # overloading\n",
        "    def greetings(self):\n",
        "        print(\"Hi, I am {0}, and I'm studying\".format(self.name))\n",
        "    def study(self, t):\n",
        "        print(\"I'm studying\", self.course)\n",
        "        import time\n",
        "        for _ in range(t):\n",
        "            time.sleep(1)\n",
        "            print(\".\", end='')\n",
        "        print('I finished!')\n",
        "\n",
        "s = Student('Beraldo', 'Gloria')\n",
        "s.greetings()\n",
        "s.study(10)\n",
        "\n",
        "# check if an object is an instance of a class\n",
        "print(isinstance(s, Person))\n",
        "print(isinstance(p, Person))\n",
        "print(isinstance(s, Student))\n",
        "print(isinstance(p, Student))"
      ]
    }
  ],
  "metadata": {
    "colab": {
      "provenance": []
    },
    "kernelspec": {
      "display_name": "Python 3",
      "name": "python3"
    },
    "language_info": {
      "name": "python"
    }
  },
  "nbformat": 4,
  "nbformat_minor": 0
}