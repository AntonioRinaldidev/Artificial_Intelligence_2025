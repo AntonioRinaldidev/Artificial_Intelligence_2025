{
  "nbformat": 4,
  "nbformat_minor": 0,
  "metadata": {
    "colab": {
      "provenance": []
    },
    "kernelspec": {
      "name": "python3",
      "display_name": "Python 3"
    },
    "language_info": {
      "name": "python"
    }
  },
  "cells": [
    {
      "cell_type": "markdown",
      "source": [
        "# Lab 1: Exercises about Introduction to Python\n"
      ],
      "metadata": {
        "id": "fOXHtqK1l0La"
      }
    },
    {
      "cell_type": "markdown",
      "source": [
        "### Exercise 1\n",
        "Cipher of Caesar: it is used to encode and decode a string.\n",
        "\n",
        "Example, key $k=3$:\n",
        "\n",
        "Original characters:\n",
        "\n",
        "`abcdefghijklmnopqrstuvwxyz`\n",
        "\n",
        "Encrypted characters:\n",
        "\n",
        "`defghijklmnopqrstuvwxyzabc`\n",
        "\n",
        "For example, `a` $\\rightarrow$ `d` because I'll move \"clockwise\" in the alphabet of 3 positions:\n",
        "$a \\rightarrow_1 b \\rightarrow_2 c \\rightarrow_3 d$\n",
        "\n",
        "With a negative key I'll move \"counterclockwise\". With `k = -3` `d` becomes `a`: $d \\rightarrow_{-1} c \\rightarrow_{-2} b\\rightarrow_{-3} a$\n",
        "\n",
        "Idea: $E_k(x) = (x+k)\\; mod\\; 26$\n",
        "\n",
        "Create a cell that converts a single character to an encrypted character."
      ],
      "metadata": {
        "id": "wtFHt-_0v-9f"
      }
    },
    {
      "cell_type": "markdown",
      "source": [
        "### Exercise 2\n",
        "\n",
        "Create a list containing Pythagorean triples $(a,b,c)$ with $a,b,c \\in \\mathbb{N}$ and $\\le 200$. Each triple is shown as a tuple. The order does not matter.\n",
        "\n",
        "Pythagorean triples: $a^2 + b^2 = c^2$"
      ],
      "metadata": {
        "id": "UI5JN4uguhDS"
      }
    },
    {
      "cell_type": "markdown",
      "source": [
        "### Exercise 3\n",
        "Extend the Cipher of Ceasar to a full string, containing spaces."
      ],
      "metadata": {
        "id": "Q3YsKNcmCP86"
      }
    },
    {
      "cell_type": "markdown",
      "source": [
        "### Exercise 4\n",
        "\n",
        "Write a program to play \"rock paper scissors\": ask the user for a choice between \"rock\", \"paper\", and \"scissors\". Then it randomly generates via the random module a choice, then it tells the user the outcome of the match. Repeat until either player wins 3 matches. Ignore invalid inputs.\n",
        "\n",
        "Tip: the function choice of the random module generates random values sampled from an input sequence."
      ],
      "metadata": {
        "id": "0_FbSfb22JYv"
      }
    },
    {
      "cell_type": "markdown",
      "source": [
        "### Exercise 5\n",
        "\n",
        "Write a program that asks the user to insert the base and the height of a rectangle. Print the values of the perimeter and area of the rectangle.\n"
      ],
      "metadata": {
        "id": "pz8vXpbcR0S9"
      }
    },
    {
      "cell_type": "markdown",
      "source": [
        "### Exercise 6\n",
        "\n",
        "Write a program that asks the name of the user and saves it in a variable s. Print the variable type, the length of the string, the first and the last character of the string."
      ],
      "metadata": {
        "id": "20BFt57a58k4"
      }
    },
    {
      "cell_type": "markdown",
      "source": [
        "### Exercise 7\n",
        "\n",
        "Write a program that asks the user to insert two numbers. If the sum of the two numbers is greater than 100, print \"The value is to big\"."
      ],
      "metadata": {
        "id": "l-i1Whpt6nZ5"
      }
    },
    {
      "cell_type": "markdown",
      "source": [
        "### Exercise 8\n",
        "\n",
        "Fill an initially empty list with 10 values inserted by the user. Print the biggest and the smallest element in the list."
      ],
      "metadata": {
        "id": "-b7mMDDs61CI"
      }
    },
    {
      "cell_type": "markdown",
      "source": [
        "### Exercise 9\n",
        "\n",
        "Define a function which returns the norm of a vector.\n",
        "\n",
        "Tips: import math for square root."
      ],
      "metadata": {
        "id": "ZFBJBy1V7DIJ"
      }
    },
    {
      "cell_type": "markdown",
      "source": [
        "### Exercise 10\n",
        "\n",
        "Define a function *searchMax* that returns the position of the biggest element in a list."
      ],
      "metadata": {
        "id": "RBR2-V3w8sMp"
      }
    },
    {
      "cell_type": "markdown",
      "source": [
        "### Exercise 11\n",
        "\n",
        "After importing the numpy module, create an array with 100 random numbers with integer values between 0 and 50. Print all the numbers, and their positions, that are greater than the array mean."
      ],
      "metadata": {
        "id": "0AzgzSQ89Lmd"
      }
    }
  ]
}