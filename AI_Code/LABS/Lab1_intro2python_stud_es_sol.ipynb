{
  "cells": [
    {
      "cell_type": "markdown",
      "metadata": {
        "id": "fOXHtqK1l0La"
      },
      "source": [
        "# Lab 1: Exercises about Introduction to Python"
      ]
    },
    {
      "cell_type": "markdown",
      "metadata": {
        "id": "wtFHt-_0v-9f"
      },
      "source": [
        "### Exercise 1\n",
        "Cipher of Caesar: it is used to encode and decode a string.\n",
        "\n",
        "Example, key $k=3$:\n",
        "\n",
        "Original characters:\n",
        "\n",
        "`abcdefghijklmnopqrstuvwxyz`\n",
        "\n",
        "Encrypted characters:\n",
        "\n",
        "`defghijklmnopqrstuvwxyzabc`\n",
        "\n",
        "For example, `a` $\\rightarrow$ `d` because I'll move \"clockwise\" in the alphabet of 3 positions:\n",
        "$a \\rightarrow_1 b \\rightarrow_2 c \\rightarrow_3 d$\n",
        "\n",
        "With a negative key I'll move \"counterclockwise\". With `k = -3` `d` becomes `a`: $d \\rightarrow_{-1} c \\rightarrow_{-2} b\\rightarrow_{-3} a$\n",
        "\n",
        "Idea: $E_k(x) = (x+k)\\; mod\\; 26$\n",
        "\n",
        "Create a cell that converts a single character to an encrypted character."
      ]
    },
    {
      "cell_type": "code",
      "execution_count": null,
      "metadata": {
        "colab": {
          "base_uri": "https://localhost:8080/"
        },
        "id": "tbYcooPIxS4U",
        "outputId": "e018b9f8-13c5-413e-be68-9c10b780297c"
      },
      "outputs": [
        {
          "name": "stdout",
          "output_type": "stream",
          "text": [
            "97\n"
          ]
        },
        {
          "data": {
            "application/vnd.google.colaboratory.intrinsic+json": {
              "type": "string"
            },
            "text/plain": [
              "'d'"
            ]
          },
          "execution_count": 1,
          "metadata": {},
          "output_type": "execute_result"
        }
      ],
      "source": [
        "# @title Solution Exercise 1\n",
        "offset = ord('a') #need to consider the offeset because a-z go from 97-122 not 0-25\n",
        "print(offset)\n",
        "k = 3 #inserire qualsiasi valore intero\n",
        "chiaro = \"a\"\n",
        "chr(((ord(chiaro) - offset + k) % 26) + offset)"
      ]
    },
    {
      "cell_type": "markdown",
      "metadata": {
        "id": "UI5JN4uguhDS"
      },
      "source": [
        "### Exercise 2\n",
        "Create a list containing Pythagorean triples $(a,b,c)$ with $a,b,c \\in \\mathbb{N}$ and $\\le 200$. Each triple is shown as a tuple. The order does not matter.\n",
        "\n",
        "Pythagorean triples: $a^2 + b^2 = c^2$"
      ]
    },
    {
      "cell_type": "code",
      "execution_count": null,
      "metadata": {
        "colab": {
          "base_uri": "https://localhost:8080/"
        },
        "id": "8phr0HY1s0me",
        "outputId": "3208a84a-4473-4d17-daba-f7e78688ec9f"
      },
      "outputs": [
        {
          "data": {
            "text/plain": [
              "[(3, 4, 5),\n",
              " (6, 8, 10),\n",
              " (5, 12, 13),\n",
              " (9, 12, 15),\n",
              " (8, 15, 17),\n",
              " (12, 16, 20),\n",
              " (15, 20, 25),\n",
              " (7, 24, 25),\n",
              " (10, 24, 26),\n",
              " (20, 21, 29),\n",
              " (18, 24, 30),\n",
              " (16, 30, 34),\n",
              " (21, 28, 35),\n",
              " (12, 35, 37),\n",
              " (15, 36, 39),\n",
              " (24, 32, 40),\n",
              " (9, 40, 41),\n",
              " (27, 36, 45),\n",
              " (30, 40, 50),\n",
              " (14, 48, 50),\n",
              " (24, 45, 51),\n",
              " (20, 48, 52),\n",
              " (28, 45, 53),\n",
              " (33, 44, 55),\n",
              " (40, 42, 58),\n",
              " (36, 48, 60),\n",
              " (11, 60, 61),\n",
              " (39, 52, 65),\n",
              " (33, 56, 65),\n",
              " (25, 60, 65),\n",
              " (16, 63, 65),\n",
              " (32, 60, 68),\n",
              " (42, 56, 70),\n",
              " (48, 55, 73),\n",
              " (24, 70, 74),\n",
              " (45, 60, 75),\n",
              " (21, 72, 75),\n",
              " (30, 72, 78),\n",
              " (48, 64, 80),\n",
              " (18, 80, 82),\n",
              " (51, 68, 85),\n",
              " (40, 75, 85),\n",
              " (36, 77, 85),\n",
              " (13, 84, 85),\n",
              " (60, 63, 87),\n",
              " (39, 80, 89),\n",
              " (54, 72, 90),\n",
              " (35, 84, 91),\n",
              " (57, 76, 95),\n",
              " (65, 72, 97),\n",
              " (60, 80, 100),\n",
              " (28, 96, 100),\n",
              " (20, 99, 101),\n",
              " (48, 90, 102),\n",
              " (40, 96, 104),\n",
              " (63, 84, 105),\n",
              " (56, 90, 106),\n",
              " (60, 91, 109),\n",
              " (66, 88, 110),\n",
              " (36, 105, 111),\n",
              " (15, 112, 113),\n",
              " (69, 92, 115),\n",
              " (80, 84, 116),\n",
              " (45, 108, 117),\n",
              " (56, 105, 119),\n",
              " (72, 96, 120),\n",
              " (22, 120, 122),\n",
              " (27, 120, 123),\n",
              " (75, 100, 125),\n",
              " (44, 117, 125),\n",
              " (35, 120, 125),\n",
              " (78, 104, 130),\n",
              " (66, 112, 130),\n",
              " (50, 120, 130),\n",
              " (32, 126, 130),\n",
              " (81, 108, 135),\n",
              " (64, 120, 136),\n",
              " (88, 105, 137),\n",
              " (84, 112, 140),\n",
              " (55, 132, 143),\n",
              " (100, 105, 145),\n",
              " (87, 116, 145),\n",
              " (24, 143, 145),\n",
              " (17, 144, 145),\n",
              " (96, 110, 146),\n",
              " (48, 140, 148),\n",
              " (51, 140, 149),\n",
              " (90, 120, 150),\n",
              " (42, 144, 150),\n",
              " (72, 135, 153),\n",
              " (93, 124, 155),\n",
              " (60, 144, 156),\n",
              " (85, 132, 157),\n",
              " (84, 135, 159),\n",
              " (96, 128, 160),\n",
              " (36, 160, 164),\n",
              " (99, 132, 165),\n",
              " (119, 120, 169),\n",
              " (65, 156, 169),\n",
              " (102, 136, 170),\n",
              " (80, 150, 170),\n",
              " (72, 154, 170),\n",
              " (26, 168, 170),\n",
              " (52, 165, 173),\n",
              " (120, 126, 174),\n",
              " (105, 140, 175),\n",
              " (49, 168, 175),\n",
              " (78, 160, 178),\n",
              " (108, 144, 180),\n",
              " (19, 180, 181),\n",
              " (70, 168, 182),\n",
              " (33, 180, 183),\n",
              " (111, 148, 185),\n",
              " (104, 153, 185),\n",
              " (60, 175, 185),\n",
              " (57, 176, 185),\n",
              " (88, 165, 187),\n",
              " (114, 152, 190),\n",
              " (95, 168, 193),\n",
              " (130, 144, 194),\n",
              " (117, 156, 195),\n",
              " (99, 168, 195),\n",
              " (75, 180, 195),\n",
              " (48, 189, 195),\n",
              " (28, 195, 197),\n",
              " (120, 160, 200),\n",
              " (56, 192, 200)]"
            ]
          },
          "execution_count": 2,
          "metadata": {},
          "output_type": "execute_result"
        }
      ],
      "source": [
        "# @title Solution Exercise 2\n",
        "m = 200\n",
        "[(x,y,z) for z in range(1,m+1) for y in range(1,z) for x in range(1,y) if x**2+y**2 == z**2]"
      ]
    },
    {
      "cell_type": "markdown",
      "metadata": {
        "id": "ddvh_sYkz8UW"
      },
      "source": [
        "### Exercise 3\n",
        "Extend the Cipher of Ceasar to a full string, containing spaces."
      ]
    },
    {
      "cell_type": "code",
      "execution_count": null,
      "metadata": {
        "colab": {
          "base_uri": "https://localhost:8080/",
          "height": 70
        },
        "id": "lNlUTxKLs7Y9",
        "outputId": "6d217661-ae70-480b-da22-cea52f23c64e"
      },
      "outputs": [
        {
          "name": "stdout",
          "output_type": "stream",
          "text": [
            "[['w', 'k', 'l', 'v'], ['l', 'v'], ['d'], ['w', 'h', 'v', 'w']]\n",
            "['wklv', 'lv', 'd', 'whvw']\n"
          ]
        },
        {
          "data": {
            "application/vnd.google.colaboratory.intrinsic+json": {
              "type": "string"
            },
            "text/plain": [
              "'wklv lv d whvw'"
            ]
          },
          "execution_count": 3,
          "metadata": {},
          "output_type": "execute_result"
        }
      ],
      "source": [
        "# @title Solution Exercise 3\n",
        "offset = ord('a')\n",
        "k = 3\n",
        "t = \"this is a test\"\n",
        "t = t.lower()\n",
        "code = [[chr(offset + ((ord(c) - offset + k) % 26)) for c in parola] for parola in t.split()]\n",
        "print(code)\n",
        "code = [\"\".join(c) for c in code]\n",
        "print(code)\n",
        "code = \" \".join(code)\n",
        "code"
      ]
    },
    {
      "cell_type": "markdown",
      "metadata": {
        "id": "0_FbSfb22JYv"
      },
      "source": [
        "### Exercise 4\n",
        "Write a program to play \"rock paper scissors\": ask the user for a choice between \"rock\", \"paper\", and \"scissors\". Then it randomly generates via the random module a choice, then it tells the user the outcome of the match. Repeat until either player wins 3 matches. Ignore invalid inputs.\n",
        "\n",
        "Tip: the function choice of the random module generates random values sampled from an input sequence."
      ]
    },
    {
      "cell_type": "code",
      "execution_count": null,
      "metadata": {
        "id": "pj6Z0Utf1kXZ"
      },
      "outputs": [],
      "source": [
        "# @title Solution Exercise 4 { form-width: \"15px\" }\n",
        "import random\n",
        "random.seed(0)\n",
        "\n",
        "choices = [\"rock\", \"paper\", \"scissors\"]\n",
        "\n",
        "pts_user, pts_cpu = 0, 0\n",
        "\n",
        "while pts_user < 3 and pts_cpu < 3:\n",
        "    user = input(\"choice: \")\n",
        "\n",
        "    if user not in choices:\n",
        "        print(\"wrong input\")\n",
        "    else:\n",
        "        cpu = random.choice(choices)\n",
        "        print(\"cpu chose:\", cpu)\n",
        "        if cpu == user:\n",
        "            print('you draw the match')\n",
        "\n",
        "        elif (cpu == 'rock' and user == 'paper' or\n",
        "        (cpu == 'scissors' and user == 'rock') or\n",
        "        (cpu == 'paper' and user == 'scissors')):\n",
        "            print('you won the match')\n",
        "            pts_user += 1\n",
        "\n",
        "        else:\n",
        "            print('you lost the match')\n",
        "            pts_cpu += 1\n",
        "\n",
        "print(\"you won!\" if pts_user > pts_cpu else \"you lost :(\")\n",
        "print(\"result: %d - %d\" %(pts_user, pts_cpu))\n"
      ]
    },
    {
      "cell_type": "markdown",
      "metadata": {
        "id": "NwcACI3YSiMd"
      },
      "source": [
        "### Exercise 5\n",
        "\n",
        "Write a program that asks the user to insert the base and the height of a rectangle. Print the values of the perimeter and area of the rectangle."
      ]
    },
    {
      "cell_type": "code",
      "execution_count": null,
      "metadata": {
        "id": "vQuqLQS5So7x"
      },
      "outputs": [],
      "source": [
        "# @title Solution Exercise 5 { form-width: \"15px\" }\n",
        "\n",
        "print(\"This program computes the perimeter and the area of a rectangle\")\n",
        "b = float(input(\"Insert base: \"))\n",
        "h = float(input(\"Insert height: \"))\n",
        "\n",
        "perimeter = 2*b + 2*h\n",
        "print(\"The perimeter is \", perimeter)\n",
        "area = b*h\n",
        "print(\"The area is \", area)"
      ]
    },
    {
      "cell_type": "markdown",
      "metadata": {
        "id": "3I_8j5PC7Unh"
      },
      "source": [
        "### Exercise 6\n",
        "\n",
        "Write a program that asks the name of the user and saves it in a variable s. Print the variable type, the length of the string, the first and the last character of the string."
      ]
    },
    {
      "cell_type": "code",
      "execution_count": null,
      "metadata": {
        "id": "mACJaesE7asj"
      },
      "outputs": [],
      "source": [
        "# @title Solution Exercise 6 { form-width: \"15px\" }\n",
        "\n",
        "s = input(\"Insert your name: \")\n",
        "\n",
        "print(\"The variable s has type \", type(s))\n",
        "print(\"Your name has \", len(s), \" characters\")\n",
        "print(\"Your name starts with \" + s[0] + \" and ends with \" + s[-1])"
      ]
    },
    {
      "cell_type": "markdown",
      "metadata": {
        "id": "mxk2uiSm7sTO"
      },
      "source": [
        "### Exercise 7\n",
        "\n",
        "Write a program that asks the user to insert two numbers. If the sum of the two numbers is greater than 100, print \"The value is to big\"."
      ]
    },
    {
      "cell_type": "code",
      "execution_count": null,
      "metadata": {
        "id": "FCfEEIs57uej"
      },
      "outputs": [],
      "source": [
        "# @title Solution Exercise 7 { form-width: \"15px\" }\n",
        "\n",
        "n1 = float(input(\"Insert a number: \"))\n",
        "n2 = float(input(\"Insert another number: \"))\n",
        "\n",
        "if (n1 + n2) > 100:\n",
        "    print(\"The values are too big\")\n",
        "else:\n",
        "    print(\"The values are ok\")"
      ]
    },
    {
      "cell_type": "markdown",
      "metadata": {
        "id": "C3_Edgbv7_XQ"
      },
      "source": [
        "### Exercise 8\n",
        "\n",
        "Fill an initially empty list with 10 values inserted by the user. Print the biggest and the smallest element in the list."
      ]
    },
    {
      "cell_type": "code",
      "execution_count": null,
      "metadata": {
        "id": "RDcgS-4A8BZ8"
      },
      "outputs": [],
      "source": [
        "# @title Solution Exercise 8 { form-width: \"15px\" }\n",
        "\n",
        "N = 10\n",
        "my_list = []\n",
        "\n",
        "for i in range(N):\n",
        "    tmp = float(input(\"Insert a number (\" + str(i+1) + \"/\" + str(N) + \"): \"))\n",
        "    my_list.append(tmp)\n",
        "\n",
        "print(\"The biggest inserted number is\", max(my_list))\n",
        "print(\"The lowest inserted number is\", min(my_list))"
      ]
    },
    {
      "cell_type": "markdown",
      "metadata": {
        "id": "BjzI0s5p8Ygh"
      },
      "source": [
        "### Exercise 9\n",
        "\n",
        "Define a function which returns the norm of a vector.\n",
        "\n",
        "Tips: import math for square root."
      ]
    },
    {
      "cell_type": "code",
      "execution_count": null,
      "metadata": {
        "id": "LNkEXS9h8aVS"
      },
      "outputs": [],
      "source": [
        "# @title Solution Exercise 9 { form-width: \"15px\" }\n",
        "\n",
        "import math\n",
        "\n",
        "def make_norm(v):\n",
        "    norm = 0\n",
        "    for i in v:\n",
        "        norm += i*i\n",
        "\n",
        "    return math.sqrt(norm)\n",
        "\n",
        "\n",
        "def make_list(N):\n",
        "    lst = []\n",
        "    for i in range(N):\n",
        "        tmp = float(input(\"Insert a number (\" + str(i+1) + \"/\" + str(N) + \"): \"))\n",
        "        lst.append(tmp)\n",
        "\n",
        "    return lst\n",
        "\n",
        "\n",
        "# MAIN\n",
        "N = int(input(\"Select a vector length: \"))\n",
        "print(\"Populate the vector\")\n",
        "vec = make_list(N)\n",
        "print(\"The vector norm is:\", make_norm(vec))"
      ]
    },
    {
      "cell_type": "markdown",
      "metadata": {
        "id": "DG-58LzB842Q"
      },
      "source": [
        "### Exercise 10\n",
        "\n",
        "Define a function *searchMax* that returns the position of the biggest element in a list."
      ]
    },
    {
      "cell_type": "code",
      "execution_count": null,
      "metadata": {
        "id": "kG-vt3EW875L"
      },
      "outputs": [],
      "source": [
        "# @title Solution Exercise 10 { form-width: \"15px\" }\n",
        "\n",
        "def searchMax(list):\n",
        "    imax = 0\n",
        "    amax = list[0]\n",
        "    for i, value in enumerate(list,1):\n",
        "        if value > amax:\n",
        "            imax = i\n",
        "            amax = value\n",
        "\n",
        "    return imax, amax\n",
        "\n",
        "\n",
        "# MAIN\n",
        "my_list = [3, 8, 1, 100, 2, 10]\n",
        "imax, amax = searchMax(my_list)\n",
        "print(\"The biggest value in the list is\", amax, \"in position\", imax)"
      ]
    },
    {
      "cell_type": "markdown",
      "metadata": {
        "id": "QXukvTpv9qSE"
      },
      "source": [
        "### Exercise 11\n",
        "\n",
        "After importing the numpy module, create an array with 100 random numbers with integer values between 0 and 50. Print all the numbers, and their positions, that are greater than the array mean."
      ]
    },
    {
      "cell_type": "code",
      "execution_count": null,
      "metadata": {
        "id": "6xYGvdBo9uGu"
      },
      "outputs": [],
      "source": [
        "# @title Solution Exercise 11 { form-width: \"15px\" }\n",
        "\n",
        "import numpy as np\n",
        "\n",
        "arr = np.random.randint(51, size=100)\n",
        "mean = np.mean(arr)\n",
        "print(\"My array is\", arr)\n",
        "print(\"The array mean is\", mean)\n",
        "print(\"Elements with value greater than mean are\", arr[ arr>mean ] )\n",
        "print(\"Their indeces are \", np.where( arr>mean )[0] )"
      ]
    }
  ],
  "metadata": {
    "colab": {
      "provenance": []
    },
    "kernelspec": {
      "display_name": "Python 3",
      "name": "python3"
    },
    "language_info": {
      "name": "python"
    }
  },
  "nbformat": 4,
  "nbformat_minor": 0
}
